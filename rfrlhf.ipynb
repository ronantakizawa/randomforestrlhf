{
  "nbformat": 4,
  "nbformat_minor": 0,
  "metadata": {
    "colab": {
      "provenance": [],
      "gpuType": "A100"
    },
    "kernelspec": {
      "name": "python3",
      "display_name": "Python 3"
    },
    "language_info": {
      "name": "python"
    },
    "accelerator": "GPU"
  },
  "cells": [
    {
      "cell_type": "markdown",
      "source": [
        "#Random Forest Racial Image Classification with Reinforcement Learning with Human Feedback\n",
        "\n",
        "This Random Forest image classification model detects if a person is black or not based on their face.\n",
        "\n",
        "The model uses Reinforcement Learning with Human Feedback (RLHF) to improve the model with human responses, tuning the model to capture a different racial biases to the given."
      ],
      "metadata": {
        "id": "fk38nDXlAI7p"
      }
    },
    {
      "cell_type": "markdown",
      "source": [
        "##Import Libraries"
      ],
      "metadata": {
        "id": "HtpjlknA2Om3"
      }
    },
    {
      "cell_type": "code",
      "source": [
        "pip install datasets pandas scikit-learn opencv-python pillow"
      ],
      "metadata": {
        "colab": {
          "base_uri": "https://localhost:8080/"
        },
        "collapsed": true,
        "id": "8XGa8LFx2phT",
        "outputId": "29816c44-ac5d-45f5-8ed1-d2a5f3c07ede"
      },
      "execution_count": 61,
      "outputs": [
        {
          "output_type": "stream",
          "name": "stdout",
          "text": [
            "Requirement already satisfied: datasets in /usr/local/lib/python3.10/dist-packages (2.19.2)\n",
            "Requirement already satisfied: pandas in /usr/local/lib/python3.10/dist-packages (2.0.3)\n",
            "Requirement already satisfied: scikit-learn in /usr/local/lib/python3.10/dist-packages (1.2.2)\n",
            "Requirement already satisfied: opencv-python in /usr/local/lib/python3.10/dist-packages (4.8.0.76)\n",
            "Requirement already satisfied: pillow in /usr/local/lib/python3.10/dist-packages (9.4.0)\n",
            "Requirement already satisfied: filelock in /usr/local/lib/python3.10/dist-packages (from datasets) (3.14.0)\n",
            "Requirement already satisfied: numpy>=1.17 in /usr/local/lib/python3.10/dist-packages (from datasets) (1.25.2)\n",
            "Requirement already satisfied: pyarrow>=12.0.0 in /usr/local/lib/python3.10/dist-packages (from datasets) (14.0.2)\n",
            "Requirement already satisfied: pyarrow-hotfix in /usr/local/lib/python3.10/dist-packages (from datasets) (0.6)\n",
            "Requirement already satisfied: dill<0.3.9,>=0.3.0 in /usr/local/lib/python3.10/dist-packages (from datasets) (0.3.8)\n",
            "Requirement already satisfied: requests>=2.32.1 in /usr/local/lib/python3.10/dist-packages (from datasets) (2.32.3)\n",
            "Requirement already satisfied: tqdm>=4.62.1 in /usr/local/lib/python3.10/dist-packages (from datasets) (4.66.4)\n",
            "Requirement already satisfied: xxhash in /usr/local/lib/python3.10/dist-packages (from datasets) (3.4.1)\n",
            "Requirement already satisfied: multiprocess in /usr/local/lib/python3.10/dist-packages (from datasets) (0.70.16)\n",
            "Requirement already satisfied: fsspec[http]<=2024.3.1,>=2023.1.0 in /usr/local/lib/python3.10/dist-packages (from datasets) (2023.6.0)\n",
            "Requirement already satisfied: aiohttp in /usr/local/lib/python3.10/dist-packages (from datasets) (3.9.5)\n",
            "Requirement already satisfied: huggingface-hub>=0.21.2 in /usr/local/lib/python3.10/dist-packages (from datasets) (0.23.1)\n",
            "Requirement already satisfied: packaging in /usr/local/lib/python3.10/dist-packages (from datasets) (24.0)\n",
            "Requirement already satisfied: pyyaml>=5.1 in /usr/local/lib/python3.10/dist-packages (from datasets) (6.0.1)\n",
            "Requirement already satisfied: python-dateutil>=2.8.2 in /usr/local/lib/python3.10/dist-packages (from pandas) (2.8.2)\n",
            "Requirement already satisfied: pytz>=2020.1 in /usr/local/lib/python3.10/dist-packages (from pandas) (2023.4)\n",
            "Requirement already satisfied: tzdata>=2022.1 in /usr/local/lib/python3.10/dist-packages (from pandas) (2024.1)\n",
            "Requirement already satisfied: scipy>=1.3.2 in /usr/local/lib/python3.10/dist-packages (from scikit-learn) (1.11.4)\n",
            "Requirement already satisfied: joblib>=1.1.1 in /usr/local/lib/python3.10/dist-packages (from scikit-learn) (1.4.2)\n",
            "Requirement already satisfied: threadpoolctl>=2.0.0 in /usr/local/lib/python3.10/dist-packages (from scikit-learn) (3.5.0)\n",
            "Requirement already satisfied: aiosignal>=1.1.2 in /usr/local/lib/python3.10/dist-packages (from aiohttp->datasets) (1.3.1)\n",
            "Requirement already satisfied: attrs>=17.3.0 in /usr/local/lib/python3.10/dist-packages (from aiohttp->datasets) (23.2.0)\n",
            "Requirement already satisfied: frozenlist>=1.1.1 in /usr/local/lib/python3.10/dist-packages (from aiohttp->datasets) (1.4.1)\n",
            "Requirement already satisfied: multidict<7.0,>=4.5 in /usr/local/lib/python3.10/dist-packages (from aiohttp->datasets) (6.0.5)\n",
            "Requirement already satisfied: yarl<2.0,>=1.0 in /usr/local/lib/python3.10/dist-packages (from aiohttp->datasets) (1.9.4)\n",
            "Requirement already satisfied: async-timeout<5.0,>=4.0 in /usr/local/lib/python3.10/dist-packages (from aiohttp->datasets) (4.0.3)\n",
            "Requirement already satisfied: typing-extensions>=3.7.4.3 in /usr/local/lib/python3.10/dist-packages (from huggingface-hub>=0.21.2->datasets) (4.11.0)\n",
            "Requirement already satisfied: six>=1.5 in /usr/local/lib/python3.10/dist-packages (from python-dateutil>=2.8.2->pandas) (1.16.0)\n",
            "Requirement already satisfied: charset-normalizer<4,>=2 in /usr/local/lib/python3.10/dist-packages (from requests>=2.32.1->datasets) (3.3.2)\n",
            "Requirement already satisfied: idna<4,>=2.5 in /usr/local/lib/python3.10/dist-packages (from requests>=2.32.1->datasets) (3.7)\n",
            "Requirement already satisfied: urllib3<3,>=1.21.1 in /usr/local/lib/python3.10/dist-packages (from requests>=2.32.1->datasets) (2.0.7)\n",
            "Requirement already satisfied: certifi>=2017.4.17 in /usr/local/lib/python3.10/dist-packages (from requests>=2.32.1->datasets) (2024.2.2)\n"
          ]
        }
      ]
    },
    {
      "cell_type": "code",
      "source": [
        "import numpy as np\n",
        "import pandas as pd\n",
        "from sklearn.model_selection import train_test_split\n",
        "from sklearn.preprocessing import StandardScaler\n",
        "from sklearn.ensemble import RandomForestClassifier\n",
        "from sklearn.metrics import accuracy_score\n",
        "import matplotlib.pyplot as plt\n",
        "from datasets import load_dataset\n",
        "from PIL import Image\n",
        "from skimage.feature import hog\n",
        "from skimage import exposure\n",
        "import cv2\n",
        "from google.colab.patches import cv2_imshow"
      ],
      "metadata": {
        "id": "isyStBiYxu69"
      },
      "execution_count": 62,
      "outputs": []
    },
    {
      "cell_type": "markdown",
      "source": [
        "##Load the Dataset\n",
        "We will be using the FairFace dataset and get it from HuggingFace"
      ],
      "metadata": {
        "id": "B9AAphHx2TEZ"
      }
    },
    {
      "cell_type": "code",
      "source": [
        "dataset = load_dataset(\"HuggingFaceM4/FairFace\", '0.25')\n",
        "df = pd.DataFrame(dataset['train'])"
      ],
      "metadata": {
        "id": "tqoJDwVp1Qig",
        "collapsed": true
      },
      "execution_count": 63,
      "outputs": []
    },
    {
      "cell_type": "code",
      "source": [
        "print(df.columns)\n",
        "print(df.head())"
      ],
      "metadata": {
        "colab": {
          "base_uri": "https://localhost:8080/"
        },
        "id": "we0wQBd34t7m",
        "outputId": "3af1a7e8-7c24-4884-ea80-e92a7f59f2ff"
      },
      "execution_count": 64,
      "outputs": [
        {
          "output_type": "stream",
          "name": "stdout",
          "text": [
            "Index(['image', 'age', 'gender', 'race', 'service_test'], dtype='object')\n",
            "                                               image  age  gender  race  \\\n",
            "0  <PIL.JpegImagePlugin.JpegImageFile image mode=...    6       0     0   \n",
            "1  <PIL.JpegImagePlugin.JpegImageFile image mode=...    4       1     1   \n",
            "2  <PIL.JpegImagePlugin.JpegImageFile image mode=...    1       1     2   \n",
            "3  <PIL.JpegImagePlugin.JpegImageFile image mode=...    3       1     1   \n",
            "4  <PIL.JpegImagePlugin.JpegImageFile image mode=...    3       1     1   \n",
            "\n",
            "   service_test  \n",
            "0          True  \n",
            "1         False  \n",
            "2         False  \n",
            "3          True  \n",
            "4          True  \n"
          ]
        }
      ]
    },
    {
      "cell_type": "markdown",
      "source": [
        "##Add Label for Black Faces (Total Images: 86744)"
      ],
      "metadata": {
        "id": "MkV_cqxQ2aFC"
      }
    },
    {
      "cell_type": "code",
      "source": [
        "df['label'] = df['race'].apply(lambda x: 1 if x == 2 else 0)\n",
        "print(f\"Number of samples after labeling: {len(df)}\")"
      ],
      "metadata": {
        "colab": {
          "base_uri": "https://localhost:8080/"
        },
        "id": "f56k26Gl1U8F",
        "outputId": "f4ac5334-c2f5-414b-a8e9-1e9f94fe3065"
      },
      "execution_count": 65,
      "outputs": [
        {
          "output_type": "stream",
          "name": "stdout",
          "text": [
            "Number of samples after labeling: 86744\n"
          ]
        }
      ]
    },
    {
      "cell_type": "markdown",
      "source": [],
      "metadata": {
        "id": "LfWjt54F2ZkU"
      }
    },
    {
      "cell_type": "markdown",
      "source": [
        "##Preprocess the Images\n",
        "Resize image for processing"
      ],
      "metadata": {
        "id": "3pxNlLFb2c4_"
      }
    },
    {
      "cell_type": "code",
      "source": [
        "def preprocess_image(image):\n",
        "    image = image.convert('L')  # Convert to grayscale\n",
        "    image = image.resize((64, 64))  # Resize to 64x64 for better feature extraction\n",
        "    return np.array(image)\n",
        "\n",
        "# Apply preprocessing\n",
        "df['image'] = df['image'].apply(preprocess_image)\n",
        "\n",
        "# Check the dataset again\n",
        "print(f\"Number of samples after preprocessing: {len(df)}\")"
      ],
      "metadata": {
        "colab": {
          "base_uri": "https://localhost:8080/"
        },
        "id": "88wmu14n1Xfi",
        "outputId": "ec59953e-f05a-4ced-f130-27cc15bc9c46"
      },
      "execution_count": 66,
      "outputs": [
        {
          "output_type": "stream",
          "name": "stdout",
          "text": [
            "Number of samples after preprocessing: 86744\n"
          ]
        }
      ]
    },
    {
      "cell_type": "markdown",
      "source": [
        "##Split the Dataset\n",
        "We will use a subset for quicker demonstration purposes"
      ],
      "metadata": {
        "id": "5t5r4s7j2hDu"
      }
    },
    {
      "cell_type": "code",
      "source": [
        "df_subset = df.sample(n= 1000, random_state=42)  # Take a random subset of 1000 samples\n",
        "X = np.array(df_subset['image'].tolist())\n",
        "y = np.array(df_subset['label'].tolist())\n",
        "X_train, X_test, y_train, y_test = train_test_split(X, y, test_size=0.2, random_state=42)\n",
        "# Confirm the shapes of the datasets\n",
        "print(f\"Training set size: {len(X_train)}, Test set size: {len(X_test)}\")\n",
        "print(f\"Shape of an image: {X_train[0].shape}\")"
      ],
      "metadata": {
        "colab": {
          "base_uri": "https://localhost:8080/"
        },
        "id": "iFm_gfAwQ1bh",
        "outputId": "ebc9549b-3438-48f4-a065-840a7beb1dac"
      },
      "execution_count": 67,
      "outputs": [
        {
          "output_type": "stream",
          "name": "stdout",
          "text": [
            "Training set size: 800, Test set size: 200\n",
            "Shape of an image: (64, 64)\n"
          ]
        }
      ]
    },
    {
      "cell_type": "markdown",
      "source": [
        "##Feature Extraction using skimage HOG\n",
        "Feature extraction using skimage HOG (Histogram of Oriented Gradients) converts the raw image data into a set of numerical features that can be used by machine learning algorithms for training and prediction.\n",
        "\n",
        "Summary:\n",
        "1. Dividing the image into small connected regions called cells.\n",
        "\n",
        "2. Calculating the gradient direction or edge orientation for the pixels within each cell.\n",
        "\n",
        "3. Creating a histogram of gradient directions for each cell.\n",
        "\n",
        "4. Normalizing the histograms across a block of cells to improve invariance to changes in illumination or shadowing."
      ],
      "metadata": {
        "id": "YZbItpy62j1N"
      }
    },
    {
      "cell_type": "code",
      "source": [
        "from skimage.feature import hog\n",
        "from skimage import exposure\n",
        "\n",
        "def extract_hog_features(images):\n",
        "    features = []\n",
        "    for i, image in enumerate(images):\n",
        "        if len(image.shape) == 2:  # Ensure the image is grayscale\n",
        "            image = np.uint8(image)  # Ensure the image is in the correct format\n",
        "            if image.shape == (64, 64):  # Ensure the image is the expected size\n",
        "                try:\n",
        "                    fd, hog_image = hog(image, orientations=8, pixels_per_cell=(8, 8),\n",
        "                                        cells_per_block=(2, 2), visualize=True, multichannel=False)\n",
        "                    features.append(fd)\n",
        "                except Exception as e:\n",
        "                    print(f\"Error computing HOG for image at index {i}: {e}\")\n",
        "                    continue\n",
        "            else:\n",
        "                print(f\"Unexpected image size at index {i}: {image.shape}\")\n",
        "        else:\n",
        "            print(f\"Unexpected image shape at index {i}: {image.shape}\")\n",
        "    return np.array(features)\n",
        "X_train_hog = extract_hog_features(X_train)\n",
        "X_test_hog = extract_hog_features(X_test)"
      ],
      "metadata": {
        "colab": {
          "base_uri": "https://localhost:8080/"
        },
        "id": "R3WRi0uk1gQR",
        "outputId": "c0e22650-803d-4ce4-d005-36e9cfe4447d"
      },
      "execution_count": 68,
      "outputs": [
        {
          "output_type": "stream",
          "name": "stderr",
          "text": [
            "<ipython-input-68-9d2a9a4b1c1d>:11: FutureWarning: `multichannel` is a deprecated argument name for `hog`. It will be removed in version 1.0. Please use `channel_axis` instead.\n",
            "  fd, hog_image = hog(image, orientations=8, pixels_per_cell=(8, 8),\n"
          ]
        }
      ]
    },
    {
      "cell_type": "code",
      "source": [
        "print(f\"Shape of HOG features for training set: {X_train_hog.shape}\")\n",
        "print(f\"Shape of HOG features for test set: {X_test_hog.shape}\")"
      ],
      "metadata": {
        "colab": {
          "base_uri": "https://localhost:8080/"
        },
        "id": "3YHD5iMG9pj5",
        "outputId": "b1dccb36-804d-4436-f3a8-c1936fb75c9c"
      },
      "execution_count": 69,
      "outputs": [
        {
          "output_type": "stream",
          "name": "stdout",
          "text": [
            "Shape of HOG features for training set: (800, 1568)\n",
            "Shape of HOG features for test set: (200, 1568)\n"
          ]
        }
      ]
    },
    {
      "cell_type": "markdown",
      "source": [
        "##Standardize the Features"
      ],
      "metadata": {
        "id": "n2L-UxjC2nny"
      }
    },
    {
      "cell_type": "code",
      "source": [
        "scaler = StandardScaler()\n",
        "X_train_hog = scaler.fit_transform(X_train_hog)\n",
        "X_test_hog = scaler.transform(X_test_hog)"
      ],
      "metadata": {
        "id": "Q-ShbNTR1kYE"
      },
      "execution_count": 70,
      "outputs": []
    },
    {
      "cell_type": "markdown",
      "source": [
        "##Train a Random Forest Model for image classification"
      ],
      "metadata": {
        "id": "c8D5VDXh2w8C"
      }
    },
    {
      "cell_type": "code",
      "source": [
        "model = RandomForestClassifier(n_estimators=10, random_state=42)\n",
        "model.fit(X_train_hog, y_train)"
      ],
      "metadata": {
        "colab": {
          "base_uri": "https://localhost:8080/",
          "height": 74
        },
        "id": "koIiMXZR1lrT",
        "outputId": "56747559-c969-4a8f-979c-b73c88559812"
      },
      "execution_count": 71,
      "outputs": [
        {
          "output_type": "execute_result",
          "data": {
            "text/plain": [
              "RandomForestClassifier(n_estimators=10, random_state=42)"
            ],
            "text/html": [
              "<style>#sk-container-id-5 {color: black;background-color: white;}#sk-container-id-5 pre{padding: 0;}#sk-container-id-5 div.sk-toggleable {background-color: white;}#sk-container-id-5 label.sk-toggleable__label {cursor: pointer;display: block;width: 100%;margin-bottom: 0;padding: 0.3em;box-sizing: border-box;text-align: center;}#sk-container-id-5 label.sk-toggleable__label-arrow:before {content: \"▸\";float: left;margin-right: 0.25em;color: #696969;}#sk-container-id-5 label.sk-toggleable__label-arrow:hover:before {color: black;}#sk-container-id-5 div.sk-estimator:hover label.sk-toggleable__label-arrow:before {color: black;}#sk-container-id-5 div.sk-toggleable__content {max-height: 0;max-width: 0;overflow: hidden;text-align: left;background-color: #f0f8ff;}#sk-container-id-5 div.sk-toggleable__content pre {margin: 0.2em;color: black;border-radius: 0.25em;background-color: #f0f8ff;}#sk-container-id-5 input.sk-toggleable__control:checked~div.sk-toggleable__content {max-height: 200px;max-width: 100%;overflow: auto;}#sk-container-id-5 input.sk-toggleable__control:checked~label.sk-toggleable__label-arrow:before {content: \"▾\";}#sk-container-id-5 div.sk-estimator input.sk-toggleable__control:checked~label.sk-toggleable__label {background-color: #d4ebff;}#sk-container-id-5 div.sk-label input.sk-toggleable__control:checked~label.sk-toggleable__label {background-color: #d4ebff;}#sk-container-id-5 input.sk-hidden--visually {border: 0;clip: rect(1px 1px 1px 1px);clip: rect(1px, 1px, 1px, 1px);height: 1px;margin: -1px;overflow: hidden;padding: 0;position: absolute;width: 1px;}#sk-container-id-5 div.sk-estimator {font-family: monospace;background-color: #f0f8ff;border: 1px dotted black;border-radius: 0.25em;box-sizing: border-box;margin-bottom: 0.5em;}#sk-container-id-5 div.sk-estimator:hover {background-color: #d4ebff;}#sk-container-id-5 div.sk-parallel-item::after {content: \"\";width: 100%;border-bottom: 1px solid gray;flex-grow: 1;}#sk-container-id-5 div.sk-label:hover label.sk-toggleable__label {background-color: #d4ebff;}#sk-container-id-5 div.sk-serial::before {content: \"\";position: absolute;border-left: 1px solid gray;box-sizing: border-box;top: 0;bottom: 0;left: 50%;z-index: 0;}#sk-container-id-5 div.sk-serial {display: flex;flex-direction: column;align-items: center;background-color: white;padding-right: 0.2em;padding-left: 0.2em;position: relative;}#sk-container-id-5 div.sk-item {position: relative;z-index: 1;}#sk-container-id-5 div.sk-parallel {display: flex;align-items: stretch;justify-content: center;background-color: white;position: relative;}#sk-container-id-5 div.sk-item::before, #sk-container-id-5 div.sk-parallel-item::before {content: \"\";position: absolute;border-left: 1px solid gray;box-sizing: border-box;top: 0;bottom: 0;left: 50%;z-index: -1;}#sk-container-id-5 div.sk-parallel-item {display: flex;flex-direction: column;z-index: 1;position: relative;background-color: white;}#sk-container-id-5 div.sk-parallel-item:first-child::after {align-self: flex-end;width: 50%;}#sk-container-id-5 div.sk-parallel-item:last-child::after {align-self: flex-start;width: 50%;}#sk-container-id-5 div.sk-parallel-item:only-child::after {width: 0;}#sk-container-id-5 div.sk-dashed-wrapped {border: 1px dashed gray;margin: 0 0.4em 0.5em 0.4em;box-sizing: border-box;padding-bottom: 0.4em;background-color: white;}#sk-container-id-5 div.sk-label label {font-family: monospace;font-weight: bold;display: inline-block;line-height: 1.2em;}#sk-container-id-5 div.sk-label-container {text-align: center;}#sk-container-id-5 div.sk-container {/* jupyter's `normalize.less` sets `[hidden] { display: none; }` but bootstrap.min.css set `[hidden] { display: none !important; }` so we also need the `!important` here to be able to override the default hidden behavior on the sphinx rendered scikit-learn.org. See: https://github.com/scikit-learn/scikit-learn/issues/21755 */display: inline-block !important;position: relative;}#sk-container-id-5 div.sk-text-repr-fallback {display: none;}</style><div id=\"sk-container-id-5\" class=\"sk-top-container\"><div class=\"sk-text-repr-fallback\"><pre>RandomForestClassifier(n_estimators=10, random_state=42)</pre><b>In a Jupyter environment, please rerun this cell to show the HTML representation or trust the notebook. <br />On GitHub, the HTML representation is unable to render, please try loading this page with nbviewer.org.</b></div><div class=\"sk-container\" hidden><div class=\"sk-item\"><div class=\"sk-estimator sk-toggleable\"><input class=\"sk-toggleable__control sk-hidden--visually\" id=\"sk-estimator-id-5\" type=\"checkbox\" checked><label for=\"sk-estimator-id-5\" class=\"sk-toggleable__label sk-toggleable__label-arrow\">RandomForestClassifier</label><div class=\"sk-toggleable__content\"><pre>RandomForestClassifier(n_estimators=10, random_state=42)</pre></div></div></div></div></div>"
            ]
          },
          "metadata": {},
          "execution_count": 71
        }
      ]
    },
    {
      "cell_type": "markdown",
      "source": [
        "##Evaluate the Model"
      ],
      "metadata": {
        "id": "YwaHKNBc202h"
      }
    },
    {
      "cell_type": "code",
      "source": [
        "y_pred = model.predict(X_test_hog)\n",
        "accuracy = accuracy_score(y_test, y_pred)\n",
        "print(f'Accuracy: {accuracy * 100:.2f}%')"
      ],
      "metadata": {
        "colab": {
          "base_uri": "https://localhost:8080/"
        },
        "id": "BjIfH-QM1nTI",
        "outputId": "dde96c6c-3a6e-40fd-e84f-d48a9e2a9d79"
      },
      "execution_count": 72,
      "outputs": [
        {
          "output_type": "stream",
          "name": "stdout",
          "text": [
            "Accuracy: 83.00%\n"
          ]
        }
      ]
    },
    {
      "cell_type": "code",
      "source": [
        "incorrect_predictions = sum(y_pred != y_test)\n",
        "print(f'Number of incorrect predictions: {incorrect_predictions}')"
      ],
      "metadata": {
        "colab": {
          "base_uri": "https://localhost:8080/"
        },
        "id": "rdf9I8GwID26",
        "outputId": "509def84-32ee-4e77-ecef-8e7018263319"
      },
      "execution_count": 73,
      "outputs": [
        {
          "output_type": "stream",
          "name": "stdout",
          "text": [
            "Number of incorrect predictions: 34\n"
          ]
        }
      ]
    },
    {
      "cell_type": "markdown",
      "source": [
        "##Collect Human Feedback via CLI\n",
        "\n",
        "We will get human feedback via CLI. The CLI will prompt an image and ask if the person is black or not."
      ],
      "metadata": {
        "id": "I36A6jSM24mM"
      }
    },
    {
      "cell_type": "code",
      "source": [
        "from google.colab.patches import cv2_imshow\n",
        "def get_human_feedback(image):\n",
        "    # Display the image using OpenCV\n",
        "    cv2_imshow(image)\n",
        "    cv2.waitKey(1)  # Display the image for a short time\n",
        "\n",
        "    # Get user input\n",
        "    feedback = input(\"Is the person Black? (y/n): \").strip().lower()\n",
        "    cv2.destroyAllWindows()\n",
        "\n",
        "    if feedback == 'y':\n",
        "        return 1\n",
        "    elif feedback == 'n':\n",
        "        return 0\n",
        "    else:\n",
        "        print(\"Invalid input. Please enter 'y' or 'n'.\")\n",
        "        return get_human_feedback(image)"
      ],
      "metadata": {
        "id": "dwtw7sdg90iz"
      },
      "execution_count": 85,
      "outputs": []
    },
    {
      "cell_type": "code",
      "source": [
        "def simulate_human_feedback(pred, true_label, image):\n",
        "    if pred == true_label:\n",
        "        return 'correct'\n",
        "    else:\n",
        "        human_feedback = get_human_feedback(image)\n",
        "        return 'correct' if human_feedback == true_label else 'incorrect'\n",
        "\n",
        "# Randomly select 100 incorrect predictions for feedback\n",
        "incorrect_indices = np.where(y_pred != y_test)[0]\n",
        "np.random.shuffle(incorrect_indices)\n",
        "limited_feedback_indices = incorrect_indices[:30]\n",
        "\n",
        "# Apply human feedback collection to the selected incorrect predictions\n",
        "feedback = [simulate_human_feedback(y_pred[i], y_test[i], X_test[i]) for i in limited_feedback_indices]"
      ],
      "metadata": {
        "colab": {
          "base_uri": "https://localhost:8080/",
          "height": 1000
        },
        "collapsed": true,
        "id": "oT7MIDG092pT",
        "outputId": "56f969ea-2db5-4b72-c54f-bf7920463af8"
      },
      "execution_count": 86,
      "outputs": [
        {
          "output_type": "display_data",
          "data": {
            "text/plain": [
              "<PIL.Image.Image image mode=L size=64x64>"
            ],
            "image/png": "[encoded data removed]"
          },
          "metadata": {}
        },
        {
          "name": "stdout",
          "output_type": "stream",
          "text": [
            "Is the person Black? (y/n): y\n"
          ]
        },
        {
          "output_type": "display_data",
          "data": {
            "text/plain": [
              "<PIL.Image.Image image mode=L size=64x64>"
            ],
            "image/png": "[encoded data removed]"
          },
          "metadata": {}
        },
        {
          "name": "stdout",
          "output_type": "stream",
          "text": [
            "Is the person Black? (y/n): y\n"
          ]
        },
        {
          "output_type": "display_data",
          "data": {
            "text/plain": [
              "<PIL.Image.Image image mode=L size=64x64>"
            ],
            "image/png": "[encoded data removed]"
          },
          "metadata": {}
        },
        {
          "name": "stdout",
          "output_type": "stream",
          "text": [
            "Is the person Black? (y/n): y\n"
          ]
        },
        {
          "output_type": "display_data",
          "data": {
            "text/plain": [
              "<PIL.Image.Image image mode=L size=64x64>"
            ],
            "image/png": "[encoded data removed]"
          },
          "metadata": {}
        },
        {
          "name": "stdout",
          "output_type": "stream",
          "text": [
            "Is the person Black? (y/n): y\n"
          ]
        },
        {
          "output_type": "display_data",
          "data": {
            "text/plain": [
              "<PIL.Image.Image image mode=L size=64x64>"
            ],
            "image/png": "[encoded data removed]"
          },
          "metadata": {}
        },
        {
          "name": "stdout",
          "output_type": "stream",
          "text": [
            "Is the person Black? (y/n): n\n"
          ]
        },
        {
          "output_type": "display_data",
          "data": {
            "text/plain": [
              "<PIL.Image.Image image mode=L size=64x64>"
            ],
            "image/png": "[encoded data removed]"
          },
          "metadata": {}
        },
        {
          "name": "stdout",
          "output_type": "stream",
          "text": [
            "Is the person Black? (y/n): y\n"
          ]
        },
        {
          "output_type": "display_data",
          "data": {
            "text/plain": [
              "<PIL.Image.Image image mode=L size=64x64>"
            ],
            "image/png": "[encoded data removed]"
          },
          "metadata": {}
        },
        {
          "name": "stdout",
          "output_type": "stream",
          "text": [
            "Is the person Black? (y/n): y\n"
          ]
        },
        {
          "output_type": "display_data",
          "data": {
            "text/plain": [
              "<PIL.Image.Image image mode=L size=64x64>"
            ],
            "image/png": "[encoded data removed]"
          },
          "metadata": {}
        },
        {
          "name": "stdout",
          "output_type": "stream",
          "text": [
            "Is the person Black? (y/n): y\n"
          ]
        },
        {
          "output_type": "display_data",
          "data": {
            "text/plain": [
              "<PIL.Image.Image image mode=L size=64x64>"
            ],
            "image/png": "[encoded data removed]"
          },
          "metadata": {}
        },
        {
          "name": "stdout",
          "output_type": "stream",
          "text": [
            "Is the person Black? (y/n): y\n"
          ]
        },
        {
          "output_type": "display_data",
          "data": {
            "text/plain": [
              "<PIL.Image.Image image mode=L size=64x64>"
            ],
            "image/png": "[encoded data removed]"
          },
          "metadata": {}
        },
        {
          "name": "stdout",
          "output_type": "stream",
          "text": [
            "Is the person Black? (y/n): y\n"
          ]
        },
        {
          "output_type": "display_data",
          "data": {
            "text/plain": [
              "<PIL.Image.Image image mode=L size=64x64>"
            ],
            "image/png": "[encoded data removed]"
          },
          "metadata": {}
        },
        {
          "name": "stdout",
          "output_type": "stream",
          "text": [
            "Is the person Black? (y/n): n\n"
          ]
        },
        {
          "output_type": "display_data",
          "data": {
            "text/plain": [
              "<PIL.Image.Image image mode=L size=64x64>"
            ],
            "image/png": "[encoded data removed]"
          },
          "metadata": {}
        },
        {
          "name": "stdout",
          "output_type": "stream",
          "text": [
            "Is the person Black? (y/n): n\n"
          ]
        },
        {
          "output_type": "display_data",
          "data": {
            "text/plain": [
              "<PIL.Image.Image image mode=L size=64x64>"
            ],
            "image/png": "[encoded data removed]"
          },
          "metadata": {}
        },
        {
          "name": "stdout",
          "output_type": "stream",
          "text": [
            "Is the person Black? (y/n): n\n"
          ]
        },
        {
          "output_type": "display_data",
          "data": {
            "text/plain": [
              "<PIL.Image.Image image mode=L size=64x64>"
            ],
            "image/png": "[encoded data removed]"
          },
          "metadata": {}
        },
        {
          "name": "stdout",
          "output_type": "stream",
          "text": [
            "Is the person Black? (y/n): n\n"
          ]
        },
        {
          "output_type": "display_data",
          "data": {
            "text/plain": [
              "<PIL.Image.Image image mode=L size=64x64>"
            ],
            "image/png": "[encoded data removed]"
          },
          "metadata": {}
        },
        {
          "name": "stdout",
          "output_type": "stream",
          "text": [
            "Is the person Black? (y/n): n\n"
          ]
        },
        {
          "output_type": "display_data",
          "data": {
            "text/plain": [
              "<PIL.Image.Image image mode=L size=64x64>"
            ],
            "image/png": "[encoded data removed]"
          },
          "metadata": {}
        },
        {
          "name": "stdout",
          "output_type": "stream",
          "text": [
            "Is the person Black? (y/n): n\n"
          ]
        },
        {
          "output_type": "display_data",
          "data": {
            "text/plain": [
              "<PIL.Image.Image image mode=L size=64x64>"
            ],
            "image/png": "[encoded data removed]"
          },
          "metadata": {}
        },
        {
          "name": "stdout",
          "output_type": "stream",
          "text": [
            "Is the person Black? (y/n): n\n"
          ]
        },
        {
          "output_type": "display_data",
          "data": {
            "text/plain": [
              "<PIL.Image.Image image mode=L size=64x64>"
            ],
            "image/png": "[encoded data removed]"
          },
          "metadata": {}
        },
        {
          "name": "stdout",
          "output_type": "stream",
          "text": [
            "Is the person Black? (y/n): y\n"
          ]
        },
        {
          "output_type": "display_data",
          "data": {
            "text/plain": [
              "<PIL.Image.Image image mode=L size=64x64>"
            ],
            "image/png": "[encoded data removed]"
          },
          "metadata": {}
        },
        {
          "name": "stdout",
          "output_type": "stream",
          "text": [
            "Is the person Black? (y/n): n\n"
          ]
        },
        {
          "output_type": "display_data",
          "data": {
            "text/plain": [
              "<PIL.Image.Image image mode=L size=64x64>"
            ],
            "image/png": "[encoded data removed]"
          },
          "metadata": {}
        },
        {
          "name": "stdout",
          "output_type": "stream",
          "text": [
            "Is the person Black? (y/n): n\n"
          ]
        },
        {
          "output_type": "display_data",
          "data": {
            "text/plain": [
              "<PIL.Image.Image image mode=L size=64x64>"
            ],
            "image/png": "[encoded data removed]"
          },
          "metadata": {}
        },
        {
          "name": "stdout",
          "output_type": "stream",
          "text": [
            "Is the person Black? (y/n): n\n"
          ]
        },
        {
          "output_type": "display_data",
          "data": {
            "text/plain": [
              "<PIL.Image.Image image mode=L size=64x64>"
            ],
            "image/png": "[encoded data removed]"
          },
          "metadata": {}
        },
        {
          "name": "stdout",
          "output_type": "stream",
          "text": [
            "Is the person Black? (y/n): y\n"
          ]
        },
        {
          "output_type": "display_data",
          "data": {
            "text/plain": [
              "<PIL.Image.Image image mode=L size=64x64>"
            ],
            "image/png": "[encoded data removed]"
          },
          "metadata": {}
        },
        {
          "name": "stdout",
          "output_type": "stream",
          "text": [
            "Is the person Black? (y/n): n\n"
          ]
        },
        {
          "output_type": "display_data",
          "data": {
            "text/plain": [
              "<PIL.Image.Image image mode=L size=64x64>"
            ],
            "image/png": "[encoded data removed]"
          },
          "metadata": {}
        },
        {
          "name": "stdout",
          "output_type": "stream",
          "text": [
            "Is the person Black? (y/n): y\n"
          ]
        },
        {
          "output_type": "display_data",
          "data": {
            "text/plain": [
              "<PIL.Image.Image image mode=L size=64x64>"
            ],
            "image/png": "[encoded data removed]"
          },
          "metadata": {}
        },
        {
          "name": "stdout",
          "output_type": "stream",
          "text": [
            "Is the person Black? (y/n): n\n"
          ]
        },
        {
          "output_type": "display_data",
          "data": {
            "text/plain": [
              "<PIL.Image.Image image mode=L size=64x64>"
            ],
            "image/png": "[encoded data removed]"
          },
          "metadata": {}
        },
        {
          "name": "stdout",
          "output_type": "stream",
          "text": [
            "Is the person Black? (y/n): n\n"
          ]
        },
        {
          "output_type": "display_data",
          "data": {
            "text/plain": [
              "<PIL.Image.Image image mode=L size=64x64>"
            ],
            "image/png": "[encoded data removed]"
          },
          "metadata": {}
        },
        {
          "name": "stdout",
          "output_type": "stream",
          "text": [
            "Is the person Black? (y/n): n\n"
          ]
        },
        {
          "output_type": "display_data",
          "data": {
            "text/plain": [
              "<PIL.Image.Image image mode=L size=64x64>"
            ],
            "image/png": "[encoded data removed]"
          },
          "metadata": {}
        },
        {
          "name": "stdout",
          "output_type": "stream",
          "text": [
            "Is the person Black? (y/n): n\n"
          ]
        },
        {
          "output_type": "display_data",
          "data": {
            "text/plain": [
              "<PIL.Image.Image image mode=L size=64x64>"
            ],
            "image/png": "[encoded data removed]"
          },
          "metadata": {}
        },
        {
          "name": "stdout",
          "output_type": "stream",
          "text": [
            "Is the person Black? (y/n): y\n"
          ]
        },
        {
          "output_type": "display_data",
          "data": {
            "text/plain": [
              "<PIL.Image.Image image mode=L size=64x64>"
            ],
            "image/png": "[encoded data removed]"
          },
          "metadata": {}
        },
        {
          "name": "stdout",
          "output_type": "stream",
          "text": [
            "Is the person Black? (y/n): y\n"
          ]
        }
      ]
    },
    {
      "cell_type": "code",
      "source": [
        "def reward_function(feedback):\n",
        "    return 1 if feedback == 'correct' else -1\n",
        "\n",
        "rewards = [reward_function(f) for f in feedback]"
      ],
      "metadata": {
        "id": "MaXMT6cmIdSS"
      },
      "execution_count": 87,
      "outputs": []
    },
    {
      "cell_type": "markdown",
      "source": [
        "##Update the Model Based on Rewards"
      ],
      "metadata": {
        "id": "eEdjHEN528M2"
      }
    },
    {
      "cell_type": "code",
      "source": [
        "for i, idx in enumerate(limited_feedback_indices):\n",
        "    if rewards[i] == -1:\n",
        "        X_train_hog = np.vstack([X_train_hog, X_test_hog[idx]])\n",
        "        y_train = np.hstack([y_train, y_test[idx]])\n",
        "        model.fit(X_train_hog, y_train)"
      ],
      "metadata": {
        "id": "Dj_H4RZqIguW"
      },
      "execution_count": 90,
      "outputs": []
    },
    {
      "cell_type": "code",
      "source": [
        "y_pred_updated = model.predict(X_test_hog)\n",
        "accuracy_updated = accuracy_score(y_test, y_pred_updated)\n",
        "print(f'Updated Accuracy: {accuracy_updated * 100:.2f}%')"
      ],
      "metadata": {
        "id": "OsglQ9wfIiSm",
        "colab": {
          "base_uri": "https://localhost:8080/"
        },
        "outputId": "2a1fc7b8-a887-40bf-b178-501655a1242a"
      },
      "execution_count": 91,
      "outputs": [
        {
          "output_type": "stream",
          "name": "stdout",
          "text": [
            "Updated Accuracy: 90.50%\n"
          ]
        }
      ]
    },
    {
      "cell_type": "markdown",
      "source": [
        "###The model is improved after the human feedback."
      ],
      "metadata": {
        "id": "JU6R91AvYitg"
      }
    }
  ]
}